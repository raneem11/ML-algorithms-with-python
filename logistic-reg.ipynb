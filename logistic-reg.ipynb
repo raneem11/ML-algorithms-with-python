{
 "cells": [
  {
   "cell_type": "markdown",
   "metadata": {},
   "source": [
    "# Logistic regression \n",
    "\n",
    "In this part of the exercise, we will build a logistic regression model to predict whether a student gets admitted into a university.\n",
    "\n",
    "the data we will work with has two features :\n",
    "\n",
    "1- score in the first exam. \n",
    "\n",
    "2- score in the second exam.\n",
    "\n",
    "and the label is admissions decision.\n",
    "\n",
    "the tools we will use:\n",
    "\n",
    "- `pandas` to load data \n",
    "\n",
    "- `numpy` to work with arrays \n",
    "\n",
    "- `matplotlib` to visualize data \n",
    "\n",
    "- `scipy.optimize` to find theta values for our cost function \n",
    "\n",
    "\n",
    "**first** we will use `pandas` to load data :"
   ]
  },
  {
   "cell_type": "code",
   "execution_count": 1,
   "metadata": {},
   "outputs": [
    {
     "name": "stdout",
     "output_type": "stream",
     "text": [
      "(100, 3)\n",
      "       exam1      exam2  admission\n",
      "0  34.623660  78.024693          0\n",
      "1  30.286711  43.894998          0\n",
      "2  35.847409  72.902198          0\n",
      "3  60.182599  86.308552          1\n",
      "4  79.032736  75.344376          1\n"
     ]
    }
   ],
   "source": [
    "import warnings\n",
    "warnings.filterwarnings('ignore')\n",
    "import pandas as pd \n",
    "import matplotlib.pyplot as plt\n",
    "import numpy as np\n",
    "from scipy.optimize import fmin_bfgs\n",
    "%matplotlib inline \n",
    "\n",
    "dataset = pd.read_csv('ex2data1.txt', names=['exam1', 'exam2', 'admission'])\n",
    "print(dataset.shape)\n",
    "print(dataset.head())"
   ]
  },
  {
   "cell_type": "markdown",
   "metadata": {},
   "source": [
    "## Visualizing the data \n",
    "\n",
    "Before starting to implement any learning algorithm, it is always good to visualize the data if possible.\n",
    "\n",
    "we will use 2-dimensional plot where the axes are the two exam scores, and the positive and\n",
    "negative examples are shown with different markers."
   ]
  },
  {
   "cell_type": "code",
   "execution_count": 2,
   "metadata": {},
   "outputs": [
    {
     "data": {
      "image/png": "[encoded data removed]",
      "text/plain": [
       "<Figure size 504x432 with 1 Axes>"
      ]
     },
     "metadata": {
      "needs_background": "light"
     },
     "output_type": "display_data"
    }
   ],
   "source": [
    "pos = dataset[(dataset['admission'] == 1)]\n",
    "neg = dataset[(dataset['admission'] == 0)]\n",
    "figure = plt.figure(figsize=(7, 6))\n",
    "ax = figure.gca()\n",
    "pos.plot.scatter(x='exam1', y='exam2', ax=ax, c='k', s=40,\n",
    "                 marker='+', label='admitted')\n",
    "neg.plot.scatter(x='exam1', y='exam2', ax=ax, c='y',\n",
    "                 marker='o', label='not admitted')\n",
    "plt.legend()\n",
    "plt.show()"
   ]
  },
  {
   "cell_type": "markdown",
   "metadata": {},
   "source": [
    "## implementation \n",
    "\n",
    "for logistic regression The hypothesis is defined as:\n",
    "\n",
    "h(x) = g(theta\\` * x) \n",
    "\n",
    "where g is the sigmoid function \n",
    "\n",
    "g(z) = 1/(1+e^(-z))\n",
    "\n",
    "so first we will need to implement this function so we can use it later\n"
   ]
  },
  {
   "cell_type": "code",
   "execution_count": 3,
   "metadata": {},
   "outputs": [],
   "source": [
    "def sigmoid(value):\n",
    "    exp = np.exp(-value)\n",
    "    denominator = np.add(1, exp)\n",
    "    return np.divide(1, denominator)"
   ]
  },
  {
   "cell_type": "markdown",
   "metadata": {},
   "source": [
    "## Cost function and gradient \n",
    "\n",
    "Now you will implement the cost function and gradient for logistic regression.\n",
    "\n",
    "**Note** \n",
    "\n",
    "the cost function in logistic regression is:\n",
    "\n",
    "J(θ) = (1 / m) ∑ \\[(-y (log(y')) - (1 - y)(log(1 - y'))\\] \n",
    "\n",
    "where y' is the hypothesis \n",
    "\n",
    "and the gradient of the cost :\n",
    "\n",
    "gradient = (1 / m) ∑(y' - y) X \n",
    "\n",
    "**Note** to use dot product you must make sure that the number of columns in the first array equal to the number of rows in the second array , to achieve this we use ` .transpose()` method from `numpy`"
   ]
  },
  {
   "cell_type": "code",
   "execution_count": 4,
   "metadata": {},
   "outputs": [],
   "source": [
    "def cost(x, y, theta):\n",
    "    pre_y = sigmoid(np.dot(x, theta.transpose()))\n",
    "    cost = (1 / m) * sum([(np.dot(-y.transpose(), np.log(pre_y)) - \n",
    "                          np.dot((1 - y).transpose(), np.log(1 - pre_y)))])\n",
    "    return cost\n",
    "\n",
    "def gradient(x, y, theta):\n",
    "    pre_y = sigmoid(np.dot(x, theta.transpose()))\n",
    "    grad = (1 / m) * np.dot((pre_y - y).transpose(), x)\n",
    "    return grad"
   ]
  },
  {
   "cell_type": "markdown",
   "metadata": {},
   "source": [
    "## Learning parameters using fmin_bfgs\n",
    "\n",
    "in this part we will use `fmin_bfgs` from `scipy` to find optimal parameters\n",
    "\n",
    "[to read more about scipy.optimize.fmin_bfgs](https://docs.scipy.org/doc/scipy/reference/generated/scipy.optimize.fmin_bfgs.html)\n",
    "\n",
    "first we will prepare our features and label to feed it to this function \n",
    "\n",
    "- first we will add another dimension to our data to accommodate the theta0 intercept term. \n",
    "\n",
    "- intialize theta values to zeros \n",
    "\n",
    "- we will define two functions ( `costfun` , `gradfun`) that take theta as parameter and return our cost and gradient function.\n",
    "\n",
    "- we will give `costfun`, `gradfun` and intial theta values to `fmin_bfgs` function then print optimal theta values \n",
    "\n",
    "\n",
    "**Note** we initialized max iteration to 400 so that `fmin_bfgs` will run for at most 400 steps before it terminates.\n",
    "\n",
    "\n",
    "**Note**  our objective function is cost function to be minimized\n"
   ]
  },
  {
   "cell_type": "code",
   "execution_count": 5,
   "metadata": {},
   "outputs": [
    {
     "name": "stdout",
     "output_type": "stream",
     "text": [
      "Optimization terminated successfully.\n",
      "         Current function value: 0.203498\n",
      "         Iterations: 23\n",
      "         Function evaluations: 31\n",
      "         Gradient evaluations: 31\n",
      "[-25.16133284   0.2062317    0.2014716 ]\n"
     ]
    }
   ],
   "source": [
    "features = np.array(dataset[['exam1', 'exam2']])\n",
    "label = np.array(dataset['admission'])\n",
    "\n",
    "\n",
    "# intialize theta values\n",
    "theta_init = np.zeros((1, features.shape[1] + 1),\n",
    "                       dtype='float64')\n",
    "\n",
    "# add another dimention\n",
    "features = np.concatenate([np.ones((features.shape[0], 1),\n",
    "                                   dtype='float64'),\n",
    "                           features], axis=1)\n",
    "\n",
    "m = features.shape[0]\n",
    "\n",
    "\n",
    "def costfun(theta_init):\n",
    "    return cost(features, label, theta_init)\n",
    "\n",
    "\n",
    "def gradfun(theta_init):\n",
    "    return gradient(features, label, theta_init)\n",
    "\n",
    "\n",
    "print(fmin_bfgs(costfun, x0=theta_init, fprime=gradfun, maxiter=400))"
   ]
  },
  {
   "cell_type": "markdown",
   "metadata": {},
   "source": [
    "**Note** the function found optimal theta values after 23 iterations\n",
    "\n",
    "## Evaluating logistic regression \n",
    "\n",
    "After learning the parameters, you can use the model to predict whether a\n",
    "particular student will be admitted.\n",
    "\n",
    "now we will fit the model to our features , then we will implement `predict` function that takes the hypothesis values, threshold and returns 0 or 1 \n"
   ]
  },
  {
   "cell_type": "code",
   "execution_count": 6,
   "metadata": {},
   "outputs": [
    {
     "name": "stdout",
     "output_type": "stream",
     "text": [
      "[0 0 0 1 1]\n"
     ]
    }
   ],
   "source": [
    "optimal_theta = np.array([-25.16133284, 0.2062317, 0.2014716])\n",
    "h_theta = sigmoid(np.dot(features, optimal_theta.transpose()))\n",
    "\n",
    "def predict(pre_y, threshold):\n",
    "    return np.array([1 if x > threshold else 0 for x in pre_y])\n",
    "\n",
    "prediction = predict(h_theta, 0.5)\n",
    "\n",
    "print(prediction[:5])\n",
    "\n"
   ]
  },
  {
   "cell_type": "markdown",
   "metadata": {},
   "source": [
    "now we will report the training accuracy of the classifier by computing the\n",
    "percentage of examples it got correct.\n"
   ]
  },
  {
   "cell_type": "code",
   "execution_count": 7,
   "metadata": {},
   "outputs": [
    {
     "name": "stdout",
     "output_type": "stream",
     "text": [
      "Accuracy = 89.00\n"
     ]
    }
   ],
   "source": [
    "correct = 0 \n",
    "total = 0 \n",
    "\n",
    "for idx in range(label.shape[0]):\n",
    "    if prediction[idx] == label[idx]:\n",
    "        correct +=1 \n",
    "    total += 1\n",
    "accuracy = (correct / total) * 100\n",
    "\n",
    "print('Accuracy = %0.2f' %accuracy)\n"
   ]
  },
  {
   "cell_type": "markdown",
   "metadata": {},
   "source": [
    "so our accuracy is 89% it means that our classifier misclassified just 11% of the cases! \n",
    "\n",
    "now we will visualize our classifier with our data to see how good it fits"
   ]
  },
  {
   "cell_type": "code",
   "execution_count": 8,
   "metadata": {},
   "outputs": [
    {
     "data": {
      "image/png": "[encoded data removed]",
      "text/plain": [
       "<Figure size 504x432 with 1 Axes>"
      ]
     },
     "metadata": {
      "needs_background": "light"
     },
     "output_type": "display_data"
    }
   ],
   "source": [
    "pos = dataset[(dataset['admission'] == 1)]\n",
    "neg = dataset[(dataset['admission'] == 0)]\n",
    "figure = plt.figure(figsize=(7, 6))\n",
    "ax = figure.gca()\n",
    "\n",
    "pos.plot.scatter(x='exam1', y='exam2', ax=ax, c='k', s=40,\n",
    "                 marker='+', label='admitted')\n",
    "neg.plot.scatter(x='exam1', y='exam2', ax=ax, c='y',\n",
    "                 marker='o', label='not admitted')\n",
    "\n",
    "plot_x = np.array([min(features[:, 1]) - 2,  max(features[:, 1]) + 2])\n",
    "plot_y = (-1 / optimal_theta[2]) * (optimal_theta[1] * plot_x + optimal_theta[0])\n",
    "\n",
    "ax.plot(plot_x, plot_y)\n",
    "\n",
    "plt.legend()\n",
    "plt.show()"
   ]
  }
 ],
 "metadata": {
  "kernelspec": {
   "display_name": "Python 3",
   "language": "python",
   "name": "python3"
  },
  "language_info": {
   "codemirror_mode": {
    "name": "ipython",
    "version": 3
   },
   "file_extension": ".py",
   "mimetype": "text/x-python",
   "name": "python",
   "nbconvert_exporter": "python",
   "pygments_lexer": "ipython3",
   "version": "3.7.0"
  }
 },
 "nbformat": 4,
 "nbformat_minor": 2
}
