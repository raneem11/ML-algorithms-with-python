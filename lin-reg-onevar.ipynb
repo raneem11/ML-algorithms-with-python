{
 "cells": [
  {
   "cell_type": "markdown",
   "metadata": {},
   "source": [
    "# Linear regression with one variable \n",
    "\n",
    "In this part of this exercise, we will implement linear regression with one\n",
    "variable to predict profits for a food truck.\n",
    "\n",
    "ex1data1.txt contains the dataset for our linear regression problem. \n",
    "The first column is the population of a city and the second column is\n",
    "the profit of a food truck in that city. A negative value for profit indicates a loss. \n",
    "\n",
    "#### First we will use `pandas` to read and exploar data :\n"
   ]
  },
  {
   "cell_type": "code",
   "execution_count": 1,
   "metadata": {},
   "outputs": [
    {
     "name": "stdout",
     "output_type": "stream",
     "text": [
      "(97, 2)\n",
      "   population   profit\n",
      "0      6.1101  17.5920\n",
      "1      5.5277   9.1302\n",
      "2      8.5186  13.6620\n",
      "3      7.0032  11.8540\n",
      "4      5.8598   6.8233\n"
     ]
    }
   ],
   "source": [
    "import pandas as pd \n",
    "import numpy as np \n",
    "import matplotlib.pyplot as plt\n",
    "%matplotlib inline\n",
    "\n",
    "dataset = pd.read_csv('ex1data1.txt', names=['population', 'profit'])\n",
    "print(dataset.shape)\n",
    "print(dataset.head())\n"
   ]
  },
  {
   "cell_type": "markdown",
   "metadata": {},
   "source": [
    "# plotting the data \n",
    "\n",
    "Before starting on any task, it is often useful to understand the data by\n",
    "visualizing it. For this dataset, you can use a scatter plot to visualize the\n",
    "data, since it has only two properties to plot (profit and population).\n",
    "\n",
    "####  we will use `matplotlib.pyplot` to plot data : "
   ]
  },
  {
   "cell_type": "code",
   "execution_count": 2,
   "metadata": {},
   "outputs": [
    {
     "data": {
      "image/png": "[encoded data removed]",
      "text/plain": [
       "<Figure size 504x432 with 1 Axes>"
      ]
     },
     "metadata": {
      "needs_background": "light"
     },
     "output_type": "display_data"
    }
   ],
   "source": [
    "figure = plt.figure(figsize=(7, 6))\n",
    "ax = figure.gca()\n",
    "dataset.plot.scatter(x='population', y='profit',\n",
    "                     ax=ax, color='r', marker='x', s=70, alpha=0.5)\n",
    "ax.set_xlabel('Population of City in 10,000s')\n",
    "ax.set_ylabel('Profit in $10,000s')\n",
    "plt.show()"
   ]
  },
  {
   "cell_type": "markdown",
   "metadata": {},
   "source": [
    "# Gradient Descent \n",
    "\n",
    "in this part we will implement gradient descent class \n",
    "\n",
    "it has two methods plus init to initialize the NO.iterations :\n",
    "\n",
    "1- `fit` :\n",
    "this method takes features, labels and alpha to optimize theta values \n",
    "\n",
    "These are the values you will adjust to minimize cost.\n",
    "\n",
    "**first** we will add another dimension to our data to accommodate the\n",
    "theta0 intercept term. We also initialize the initial parameters to 0 and the\n",
    "learning rate alpha to 0.01.\n",
    "\n",
    "**then** we will compute the cost \n",
    "\n",
    "J = (1 / 2m) ∑ (y' - y) ^ 2\n",
    "\n",
    "m is the number of examples in our data \n",
    "\n",
    "y' is the predicted value \n",
    "\n",
    "**last step** we will use gradient in gradient descent to change theta values \n",
    "\n",
    "for each theta we will compute the cost and save it in j_history dictionary  \n",
    "\n",
    "then we will iterate through j_history dictionary and choose theta values with the least cost function \n",
    "\n",
    "we will save it to make prediction ! \n",
    "\n",
    "2- `predict` \n",
    "\n",
    "this method predict the profit value for given population  \n",
    "\n"
   ]
  },
  {
   "cell_type": "code",
   "execution_count": 3,
   "metadata": {},
   "outputs": [],
   "source": [
    "class GradientDescent:\n",
    "    def __init__(self, iterations=1500):\n",
    "        self.iter = iterations\n",
    "\n",
    "    def fit(self, features, label, alpha=0.01, theta=None):\n",
    "        \n",
    "        # initialize theta values :\n",
    "        if theta is None:\n",
    "            theta = np.zeros((1, features.shape[1] + 1),\n",
    "                             dtype='float64')\n",
    "        else:\n",
    "            theta = theta\n",
    "        \n",
    "        self.label = label \n",
    "        self.features = features\n",
    "        self.alpha = alpha\n",
    "       \n",
    "        # add ones column to features\n",
    "        x = np.concatenate([np.ones((self.features.shape[0],\n",
    "                                     1),\n",
    "                                    dtype='float64'),\n",
    "                            features], axis=1)\n",
    "        \n",
    "        m = features.shape[0]\n",
    "\n",
    "        def cost(x, m, label, theta):\n",
    "            prediction = np.dot(x, theta.transpose())\n",
    "            sqr_error = [(y_pre - y) ** 2 \n",
    "                         for y_pre, y in zip(prediction, label)]\n",
    "            J = (1 / (2 * m) * sum(sqr_error))\n",
    "            return J[0]\n",
    "        print(cost(x, m, label, theta))\n",
    "        self.j_hist = {}\n",
    "        for _ in range(self.iter):\n",
    "            prediction = np.dot(x, theta.transpose())\n",
    "            error = np.array([(y_pre - y)\n",
    "                              for y_pre, y in zip(prediction, label)])\n",
    "            gradient = np.dot(error.transpose(), x)\n",
    "            theta = theta - alpha * (1 / m) * gradient\n",
    "            j = cost(x, m, label, theta)\n",
    "            self.j_hist[j] = theta\n",
    "        \n",
    "        min_j = min([i for i in self.j_hist])\n",
    "        self.theta = self.j_hist[min_j]\n",
    "\n",
    "    def predict(self, feature):\n",
    "        self.feature = feature\n",
    "        x = np.concatenate([np.ones((self.feature.shape[0],\n",
    "                                     feature.shape[1]),\n",
    "                                    dtype='float64'),\n",
    "                            feature], axis=1)\n",
    "        return np.dot(x, self.theta.transpose())"
   ]
  },
  {
   "cell_type": "markdown",
   "metadata": {},
   "source": [
    "Now we will use the algorithm with our data \n",
    "\n",
    "**first** we will make numpy array for features and label using `np.array`"
   ]
  },
  {
   "cell_type": "code",
   "execution_count": 4,
   "metadata": {},
   "outputs": [],
   "source": [
    "features = np.array(dataset['population']).reshape(-1, 1)\n",
    "label = np.array(dataset['profit'])\n"
   ]
  },
  {
   "cell_type": "markdown",
   "metadata": {},
   "source": [
    "now we will fit the model to data\n",
    "\n",
    "**Note** we initialized alpha value with 0.01\n"
   ]
  },
  {
   "cell_type": "code",
   "execution_count": 5,
   "metadata": {},
   "outputs": [
    {
     "name": "stdout",
     "output_type": "stream",
     "text": [
      "32.072733877455654\n"
     ]
    }
   ],
   "source": [
    "gradient_descent = GradientDescent()\n",
    "gradient_descent.fit(features, label)"
   ]
  },
  {
   "cell_type": "markdown",
   "metadata": {},
   "source": [
    "**theta found by gradient descent:**"
   ]
  },
  {
   "cell_type": "code",
   "execution_count": 6,
   "metadata": {},
   "outputs": [
    {
     "name": "stdout",
     "output_type": "stream",
     "text": [
      "[[-3.63029144  1.16636235]]\n"
     ]
    }
   ],
   "source": [
    "print(gradient_descent.theta)"
   ]
  },
  {
   "cell_type": "markdown",
   "metadata": {},
   "source": [
    "# plotting Training data with linear regression fit :\n",
    "\n",
    "now we will plot training data with linear regression model to see how good it fits "
   ]
  },
  {
   "cell_type": "code",
   "execution_count": 7,
   "metadata": {},
   "outputs": [
    {
     "data": {
      "image/png": "[encoded data removed]",
      "text/plain": [
       "<Figure size 504x432 with 1 Axes>"
      ]
     },
     "metadata": {
      "needs_background": "light"
     },
     "output_type": "display_data"
    }
   ],
   "source": [
    "figure = plt.figure(figsize=(7, 6))\n",
    "ax = figure.gca()\n",
    "dataset.plot.scatter(x='population', y='profit',\n",
    "                     ax=ax, color='r', marker='x', s=70, alpha=0.5)\n",
    "ax.set_xlabel('Population of City in 10,000s')\n",
    "ax.set_ylabel('Profit in $10,000s')\n",
    "predictions = gradient_descent.predict(features)\n",
    "ax.plot(features, predictions, linewidth=0.5)\n",
    "plt.show()"
   ]
  }
 ],
 "metadata": {
  "kernelspec": {
   "display_name": "Python 3",
   "language": "python",
   "name": "python3"
  },
  "language_info": {
   "codemirror_mode": {
    "name": "ipython",
    "version": 3
   },
   "file_extension": ".py",
   "mimetype": "text/x-python",
   "name": "python",
   "nbconvert_exporter": "python",
   "pygments_lexer": "ipython3",
   "version": "3.7.0"
  }
 },
 "nbformat": 4,
 "nbformat_minor": 2
}
